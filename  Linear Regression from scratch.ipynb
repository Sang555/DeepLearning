{
 "cells": [
  {
   "cell_type": "markdown",
   "id": "f195d84b",
   "metadata": {},
   "source": [
    "Step1: generate syntetic data"
   ]
  },
  {
   "cell_type": "code",
   "execution_count": 9,
   "id": "cc4abeb1",
   "metadata": {},
   "outputs": [
    {
     "name": "stdout",
     "output_type": "stream",
     "text": [
      "Collecting torch\n",
      "  Downloading torch-1.10.1-cp38-none-macosx_10_9_x86_64.whl (147.1 MB)\n",
      "\u001b[K     |████████████████████████████████| 147.1 MB 45 kB/s s eta 0:00:01\n",
      "\u001b[?25hCollecting torchvision\n",
      "  Downloading torchvision-0.11.2-cp38-cp38-macosx_10_9_x86_64.whl (1.2 MB)\n",
      "\u001b[K     |████████████████████████████████| 1.2 MB 44.2 MB/s eta 0:00:01\n",
      "\u001b[?25hRequirement already satisfied: typing-extensions in /Users/sangeethavs/opt/anaconda3/lib/python3.8/site-packages (from torch) (3.7.4.3)\n",
      "Requirement already satisfied: pillow!=8.3.0,>=5.3.0 in /Users/sangeethavs/opt/anaconda3/lib/python3.8/site-packages (from torchvision) (8.2.0)\n",
      "Requirement already satisfied: numpy in /Users/sangeethavs/opt/anaconda3/lib/python3.8/site-packages (from torchvision) (1.20.1)\n",
      "Installing collected packages: torch, torchvision\n",
      "Successfully installed torch-1.10.1 torchvision-0.11.2\n"
     ]
    }
   ],
   "source": [
    "!pip3 install torch torchvision"
   ]
  },
  {
   "cell_type": "code",
   "execution_count": 33,
   "id": "a2babfdc",
   "metadata": {},
   "outputs": [
    {
     "name": "stdout",
     "output_type": "stream",
     "text": [
      "Collecting d2l\n",
      "  Downloading d2l-0.17.1-py3-none-any.whl (82 kB)\n",
      "\u001b[K     |████████████████████████████████| 82 kB 2.4 MB/s eta 0:00:011\n",
      "\u001b[?25hCollecting numpy==1.18.5\n",
      "  Downloading numpy-1.18.5-cp38-cp38-macosx_10_9_x86_64.whl (15.1 MB)\n",
      "\u001b[K     |████████████████████████████████| 15.1 MB 19.3 MB/s eta 0:00:01\n",
      "\u001b[?25hCollecting matplotlib==3.3.3\n",
      "  Downloading matplotlib-3.3.3-cp38-cp38-macosx_10_9_x86_64.whl (8.5 MB)\n",
      "\u001b[K     |████████████████████████████████| 8.5 MB 15.4 MB/s eta 0:00:01\n",
      "\u001b[?25hRequirement already satisfied: requests==2.25.1 in /Users/sangeethavs/opt/anaconda3/lib/python3.8/site-packages (from d2l) (2.25.1)\n",
      "Collecting pandas==1.2.2\n",
      "  Downloading pandas-1.2.2-cp38-cp38-macosx_10_9_x86_64.whl (10.5 MB)\n",
      "\u001b[K     |████████████████████████████████| 10.5 MB 8.0 MB/s eta 0:00:01\n",
      "\u001b[?25hRequirement already satisfied: jupyter==1.0.0 in /Users/sangeethavs/opt/anaconda3/lib/python3.8/site-packages (from d2l) (1.0.0)\n",
      "Requirement already satisfied: nbconvert in /Users/sangeethavs/opt/anaconda3/lib/python3.8/site-packages (from jupyter==1.0.0->d2l) (6.0.7)\n",
      "Requirement already satisfied: ipykernel in /Users/sangeethavs/opt/anaconda3/lib/python3.8/site-packages (from jupyter==1.0.0->d2l) (5.3.4)\n",
      "Requirement already satisfied: jupyter-console in /Users/sangeethavs/opt/anaconda3/lib/python3.8/site-packages (from jupyter==1.0.0->d2l) (6.4.0)\n",
      "Requirement already satisfied: ipywidgets in /Users/sangeethavs/opt/anaconda3/lib/python3.8/site-packages (from jupyter==1.0.0->d2l) (7.6.3)\n",
      "Requirement already satisfied: notebook in /Users/sangeethavs/opt/anaconda3/lib/python3.8/site-packages (from jupyter==1.0.0->d2l) (6.3.0)\n",
      "Requirement already satisfied: qtconsole in /Users/sangeethavs/opt/anaconda3/lib/python3.8/site-packages (from jupyter==1.0.0->d2l) (5.0.3)\n",
      "Requirement already satisfied: cycler>=0.10 in /Users/sangeethavs/opt/anaconda3/lib/python3.8/site-packages (from matplotlib==3.3.3->d2l) (0.10.0)\n",
      "Requirement already satisfied: kiwisolver>=1.0.1 in /Users/sangeethavs/opt/anaconda3/lib/python3.8/site-packages (from matplotlib==3.3.3->d2l) (1.3.1)\n",
      "Requirement already satisfied: pillow>=6.2.0 in /Users/sangeethavs/opt/anaconda3/lib/python3.8/site-packages (from matplotlib==3.3.3->d2l) (8.2.0)\n",
      "Requirement already satisfied: python-dateutil>=2.1 in /Users/sangeethavs/opt/anaconda3/lib/python3.8/site-packages (from matplotlib==3.3.3->d2l) (2.8.1)\n",
      "Requirement already satisfied: pyparsing!=2.0.4,!=2.1.2,!=2.1.6,>=2.0.3 in /Users/sangeethavs/opt/anaconda3/lib/python3.8/site-packages (from matplotlib==3.3.3->d2l) (2.4.7)\n",
      "Requirement already satisfied: pytz>=2017.3 in /Users/sangeethavs/opt/anaconda3/lib/python3.8/site-packages (from pandas==1.2.2->d2l) (2021.1)\n",
      "Requirement already satisfied: idna<3,>=2.5 in /Users/sangeethavs/opt/anaconda3/lib/python3.8/site-packages (from requests==2.25.1->d2l) (2.10)\n",
      "Requirement already satisfied: urllib3<1.27,>=1.21.1 in /Users/sangeethavs/opt/anaconda3/lib/python3.8/site-packages (from requests==2.25.1->d2l) (1.26.4)\n",
      "Requirement already satisfied: certifi>=2017.4.17 in /Users/sangeethavs/opt/anaconda3/lib/python3.8/site-packages (from requests==2.25.1->d2l) (2020.12.5)\n",
      "Requirement already satisfied: chardet<5,>=3.0.2 in /Users/sangeethavs/opt/anaconda3/lib/python3.8/site-packages (from requests==2.25.1->d2l) (4.0.0)\n",
      "Requirement already satisfied: six in /Users/sangeethavs/opt/anaconda3/lib/python3.8/site-packages (from cycler>=0.10->matplotlib==3.3.3->d2l) (1.15.0)\n",
      "Requirement already satisfied: traitlets>=4.1.0 in /Users/sangeethavs/opt/anaconda3/lib/python3.8/site-packages (from ipykernel->jupyter==1.0.0->d2l) (5.0.5)\n",
      "Requirement already satisfied: ipython>=5.0.0 in /Users/sangeethavs/opt/anaconda3/lib/python3.8/site-packages (from ipykernel->jupyter==1.0.0->d2l) (7.22.0)\n",
      "Requirement already satisfied: jupyter-client in /Users/sangeethavs/opt/anaconda3/lib/python3.8/site-packages (from ipykernel->jupyter==1.0.0->d2l) (6.1.12)\n",
      "Requirement already satisfied: tornado>=4.2 in /Users/sangeethavs/opt/anaconda3/lib/python3.8/site-packages (from ipykernel->jupyter==1.0.0->d2l) (6.1)\n",
      "Requirement already satisfied: appnope in /Users/sangeethavs/opt/anaconda3/lib/python3.8/site-packages (from ipykernel->jupyter==1.0.0->d2l) (0.1.2)\n",
      "Requirement already satisfied: pexpect>4.3 in /Users/sangeethavs/opt/anaconda3/lib/python3.8/site-packages (from ipython>=5.0.0->ipykernel->jupyter==1.0.0->d2l) (4.8.0)\n",
      "Requirement already satisfied: jedi>=0.16 in /Users/sangeethavs/opt/anaconda3/lib/python3.8/site-packages (from ipython>=5.0.0->ipykernel->jupyter==1.0.0->d2l) (0.17.2)\n",
      "Requirement already satisfied: decorator in /Users/sangeethavs/opt/anaconda3/lib/python3.8/site-packages (from ipython>=5.0.0->ipykernel->jupyter==1.0.0->d2l) (5.0.6)\n",
      "Requirement already satisfied: setuptools>=18.5 in /Users/sangeethavs/opt/anaconda3/lib/python3.8/site-packages (from ipython>=5.0.0->ipykernel->jupyter==1.0.0->d2l) (52.0.0.post20210125)\n",
      "Requirement already satisfied: pygments in /Users/sangeethavs/opt/anaconda3/lib/python3.8/site-packages (from ipython>=5.0.0->ipykernel->jupyter==1.0.0->d2l) (2.8.1)\n",
      "Requirement already satisfied: prompt-toolkit!=3.0.0,!=3.0.1,<3.1.0,>=2.0.0 in /Users/sangeethavs/opt/anaconda3/lib/python3.8/site-packages (from ipython>=5.0.0->ipykernel->jupyter==1.0.0->d2l) (3.0.17)\n",
      "Requirement already satisfied: pickleshare in /Users/sangeethavs/opt/anaconda3/lib/python3.8/site-packages (from ipython>=5.0.0->ipykernel->jupyter==1.0.0->d2l) (0.7.5)\n",
      "Requirement already satisfied: backcall in /Users/sangeethavs/opt/anaconda3/lib/python3.8/site-packages (from ipython>=5.0.0->ipykernel->jupyter==1.0.0->d2l) (0.2.0)\n",
      "Requirement already satisfied: parso<0.8.0,>=0.7.0 in /Users/sangeethavs/opt/anaconda3/lib/python3.8/site-packages (from jedi>=0.16->ipython>=5.0.0->ipykernel->jupyter==1.0.0->d2l) (0.7.0)\n",
      "Requirement already satisfied: ptyprocess>=0.5 in /Users/sangeethavs/opt/anaconda3/lib/python3.8/site-packages (from pexpect>4.3->ipython>=5.0.0->ipykernel->jupyter==1.0.0->d2l) (0.7.0)\n",
      "Requirement already satisfied: wcwidth in /Users/sangeethavs/opt/anaconda3/lib/python3.8/site-packages (from prompt-toolkit!=3.0.0,!=3.0.1,<3.1.0,>=2.0.0->ipython>=5.0.0->ipykernel->jupyter==1.0.0->d2l) (0.2.5)\n",
      "Requirement already satisfied: ipython-genutils in /Users/sangeethavs/opt/anaconda3/lib/python3.8/site-packages (from traitlets>=4.1.0->ipykernel->jupyter==1.0.0->d2l) (0.2.0)\n",
      "Requirement already satisfied: widgetsnbextension~=3.5.0 in /Users/sangeethavs/opt/anaconda3/lib/python3.8/site-packages (from ipywidgets->jupyter==1.0.0->d2l) (3.5.1)\n",
      "Requirement already satisfied: nbformat>=4.2.0 in /Users/sangeethavs/opt/anaconda3/lib/python3.8/site-packages (from ipywidgets->jupyter==1.0.0->d2l) (5.1.3)\n",
      "Requirement already satisfied: jupyterlab-widgets>=1.0.0 in /Users/sangeethavs/opt/anaconda3/lib/python3.8/site-packages (from ipywidgets->jupyter==1.0.0->d2l) (1.0.0)\n",
      "Requirement already satisfied: jsonschema!=2.5.0,>=2.4 in /Users/sangeethavs/opt/anaconda3/lib/python3.8/site-packages (from nbformat>=4.2.0->ipywidgets->jupyter==1.0.0->d2l) (3.2.0)\n",
      "Requirement already satisfied: jupyter-core in /Users/sangeethavs/opt/anaconda3/lib/python3.8/site-packages (from nbformat>=4.2.0->ipywidgets->jupyter==1.0.0->d2l) (4.7.1)\n",
      "Requirement already satisfied: pyrsistent>=0.14.0 in /Users/sangeethavs/opt/anaconda3/lib/python3.8/site-packages (from jsonschema!=2.5.0,>=2.4->nbformat>=4.2.0->ipywidgets->jupyter==1.0.0->d2l) (0.17.3)\n",
      "Requirement already satisfied: attrs>=17.4.0 in /Users/sangeethavs/opt/anaconda3/lib/python3.8/site-packages (from jsonschema!=2.5.0,>=2.4->nbformat>=4.2.0->ipywidgets->jupyter==1.0.0->d2l) (20.3.0)\n",
      "Requirement already satisfied: terminado>=0.8.3 in /Users/sangeethavs/opt/anaconda3/lib/python3.8/site-packages (from notebook->jupyter==1.0.0->d2l) (0.9.4)\n",
      "Requirement already satisfied: argon2-cffi in /Users/sangeethavs/opt/anaconda3/lib/python3.8/site-packages (from notebook->jupyter==1.0.0->d2l) (20.1.0)\n",
      "Requirement already satisfied: Send2Trash>=1.5.0 in /Users/sangeethavs/opt/anaconda3/lib/python3.8/site-packages (from notebook->jupyter==1.0.0->d2l) (1.5.0)\n",
      "Requirement already satisfied: jinja2 in /Users/sangeethavs/opt/anaconda3/lib/python3.8/site-packages (from notebook->jupyter==1.0.0->d2l) (2.11.3)\n",
      "Requirement already satisfied: prometheus-client in /Users/sangeethavs/opt/anaconda3/lib/python3.8/site-packages (from notebook->jupyter==1.0.0->d2l) (0.10.1)\n",
      "Requirement already satisfied: pyzmq>=17 in /Users/sangeethavs/opt/anaconda3/lib/python3.8/site-packages (from notebook->jupyter==1.0.0->d2l) (20.0.0)\n",
      "Requirement already satisfied: cffi>=1.0.0 in /Users/sangeethavs/opt/anaconda3/lib/python3.8/site-packages (from argon2-cffi->notebook->jupyter==1.0.0->d2l) (1.14.5)\n",
      "Requirement already satisfied: pycparser in /Users/sangeethavs/opt/anaconda3/lib/python3.8/site-packages (from cffi>=1.0.0->argon2-cffi->notebook->jupyter==1.0.0->d2l) (2.20)\n",
      "Requirement already satisfied: MarkupSafe>=0.23 in /Users/sangeethavs/opt/anaconda3/lib/python3.8/site-packages (from jinja2->notebook->jupyter==1.0.0->d2l) (1.1.1)\n"
     ]
    },
    {
     "name": "stdout",
     "output_type": "stream",
     "text": [
      "Requirement already satisfied: jupyterlab-pygments in /Users/sangeethavs/opt/anaconda3/lib/python3.8/site-packages (from nbconvert->jupyter==1.0.0->d2l) (0.1.2)\n",
      "Requirement already satisfied: mistune<2,>=0.8.1 in /Users/sangeethavs/opt/anaconda3/lib/python3.8/site-packages (from nbconvert->jupyter==1.0.0->d2l) (0.8.4)\n",
      "Requirement already satisfied: entrypoints>=0.2.2 in /Users/sangeethavs/opt/anaconda3/lib/python3.8/site-packages (from nbconvert->jupyter==1.0.0->d2l) (0.3)\n",
      "Requirement already satisfied: bleach in /Users/sangeethavs/opt/anaconda3/lib/python3.8/site-packages (from nbconvert->jupyter==1.0.0->d2l) (3.3.0)\n",
      "Requirement already satisfied: nbclient<0.6.0,>=0.5.0 in /Users/sangeethavs/opt/anaconda3/lib/python3.8/site-packages (from nbconvert->jupyter==1.0.0->d2l) (0.5.3)\n",
      "Requirement already satisfied: pandocfilters>=1.4.1 in /Users/sangeethavs/opt/anaconda3/lib/python3.8/site-packages (from nbconvert->jupyter==1.0.0->d2l) (1.4.3)\n",
      "Requirement already satisfied: defusedxml in /Users/sangeethavs/opt/anaconda3/lib/python3.8/site-packages (from nbconvert->jupyter==1.0.0->d2l) (0.7.1)\n",
      "Requirement already satisfied: testpath in /Users/sangeethavs/opt/anaconda3/lib/python3.8/site-packages (from nbconvert->jupyter==1.0.0->d2l) (0.4.4)\n",
      "Requirement already satisfied: async-generator in /Users/sangeethavs/opt/anaconda3/lib/python3.8/site-packages (from nbclient<0.6.0,>=0.5.0->nbconvert->jupyter==1.0.0->d2l) (1.10)\n",
      "Requirement already satisfied: nest-asyncio in /Users/sangeethavs/opt/anaconda3/lib/python3.8/site-packages (from nbclient<0.6.0,>=0.5.0->nbconvert->jupyter==1.0.0->d2l) (1.5.1)\n",
      "Requirement already satisfied: packaging in /Users/sangeethavs/opt/anaconda3/lib/python3.8/site-packages (from bleach->nbconvert->jupyter==1.0.0->d2l) (20.9)\n",
      "Requirement already satisfied: webencodings in /Users/sangeethavs/opt/anaconda3/lib/python3.8/site-packages (from bleach->nbconvert->jupyter==1.0.0->d2l) (0.5.1)\n",
      "Requirement already satisfied: qtpy in /Users/sangeethavs/opt/anaconda3/lib/python3.8/site-packages (from qtconsole->jupyter==1.0.0->d2l) (1.9.0)\n",
      "Installing collected packages: numpy, pandas, matplotlib, d2l\n",
      "  Attempting uninstall: numpy\n",
      "    Found existing installation: numpy 1.20.1\n",
      "    Uninstalling numpy-1.20.1:\n",
      "      Successfully uninstalled numpy-1.20.1\n",
      "  Attempting uninstall: pandas\n",
      "    Found existing installation: pandas 1.2.4\n",
      "    Uninstalling pandas-1.2.4:\n",
      "      Successfully uninstalled pandas-1.2.4\n",
      "  Attempting uninstall: matplotlib\n",
      "    Found existing installation: matplotlib 3.3.4\n",
      "    Uninstalling matplotlib-3.3.4:\n",
      "      Successfully uninstalled matplotlib-3.3.4\n",
      "Successfully installed d2l-0.17.1 matplotlib-3.3.3 numpy-1.18.5 pandas-1.2.2\n"
     ]
    }
   ],
   "source": [
    "!pip3 install -U d2l"
   ]
  },
  {
   "cell_type": "code",
   "execution_count": 34,
   "id": "39eda91c",
   "metadata": {},
   "outputs": [],
   "source": [
    "import numpy as np\n",
    "import torch\n",
    "import random\n",
    "from d2l import torch as d2l"
   ]
  },
  {
   "cell_type": "code",
   "execution_count": 45,
   "id": "9c245267",
   "metadata": {},
   "outputs": [],
   "source": [
    "def synthetic_data(w,b, num_example, num_features):\n",
    "    X = torch.normal(0,1,(num_example,num_features))\n",
    "    y = torch.matmul(X, w)+ b\n",
    "    y += torch.normal(0,0.01,y.shape)\n",
    "    return X, y\n",
    "\n",
    "w = torch.tensor([1,3.2,-2])\n",
    "b = 5\n",
    "\n",
    "X, y = synthetic_data(w,b,20,len(w))"
   ]
  },
  {
   "cell_type": "code",
   "execution_count": 46,
   "id": "0864a5ec",
   "metadata": {},
   "outputs": [
    {
     "data": {
      "text/plain": [
       "tensor([ 0.6356, -2.8614,  1.1334, -0.8141, 11.6699,  0.0759,  3.7058,  1.5131,\n",
       "         6.8020,  5.4687,  0.8305, -0.2058,  7.1207,  4.5225,  7.6813, -0.8146,\n",
       "        11.8580,  5.5119,  5.4445,  7.1648])"
      ]
     },
     "execution_count": 46,
     "metadata": {},
     "output_type": "execute_result"
    }
   ],
   "source": [
    "y"
   ]
  },
  {
   "cell_type": "code",
   "execution_count": 47,
   "id": "99d15724",
   "metadata": {},
   "outputs": [
    {
     "data": {
      "text/plain": [
       "tensor([[ 0.6356],\n",
       "        [-2.8614],\n",
       "        [ 1.1334],\n",
       "        [-0.8141],\n",
       "        [11.6699],\n",
       "        [ 0.0759],\n",
       "        [ 3.7058],\n",
       "        [ 1.5131],\n",
       "        [ 6.8020],\n",
       "        [ 5.4687],\n",
       "        [ 0.8305],\n",
       "        [-0.2058],\n",
       "        [ 7.1207],\n",
       "        [ 4.5225],\n",
       "        [ 7.6813],\n",
       "        [-0.8146],\n",
       "        [11.8580],\n",
       "        [ 5.5119],\n",
       "        [ 5.4445],\n",
       "        [ 7.1648]])"
      ]
     },
     "execution_count": 47,
     "metadata": {},
     "output_type": "execute_result"
    }
   ],
   "source": [
    "y = y.reshape((-1,1))\n",
    "y"
   ]
  },
  {
   "cell_type": "code",
   "execution_count": 48,
   "id": "72e9ec19",
   "metadata": {},
   "outputs": [
    {
     "data": {
      "text/plain": [
       "<matplotlib.collections.PathCollection at 0x7fdc800b2790>"
      ]
     },
     "execution_count": 48,
     "metadata": {},
     "output_type": "execute_result"
    },
    {
     "data": {
      "image/svg+xml": [
       "<?xml version=\"1.0\" encoding=\"utf-8\" standalone=\"no\"?>\n",
       "<!DOCTYPE svg PUBLIC \"-//W3C//DTD SVG 1.1//EN\"\n",
       "  \"http://www.w3.org/Graphics/SVG/1.1/DTD/svg11.dtd\">\n",
       "<!-- Created with matplotlib (https://matplotlib.org/) -->\n",
       "<svg height=\"166.978125pt\" version=\"1.1\" viewBox=\"0 0 229.425 166.978125\" width=\"229.425pt\" xmlns=\"http://www.w3.org/2000/svg\" xmlns:xlink=\"http://www.w3.org/1999/xlink\">\n",
       " <metadata>\n",
       "  <rdf:RDF xmlns:cc=\"http://creativecommons.org/ns#\" xmlns:dc=\"http://purl.org/dc/elements/1.1/\" xmlns:rdf=\"http://www.w3.org/1999/02/22-rdf-syntax-ns#\">\n",
       "   <cc:Work>\n",
       "    <dc:type rdf:resource=\"http://purl.org/dc/dcmitype/StillImage\"/>\n",
       "    <dc:date>2022-01-05T09:41:15.856776</dc:date>\n",
       "    <dc:format>image/svg+xml</dc:format>\n",
       "    <dc:creator>\n",
       "     <cc:Agent>\n",
       "      <dc:title>Matplotlib v3.3.3, https://matplotlib.org/</dc:title>\n",
       "     </cc:Agent>\n",
       "    </dc:creator>\n",
       "   </cc:Work>\n",
       "  </rdf:RDF>\n",
       " </metadata>\n",
       " <defs>\n",
       "  <style type=\"text/css\">*{stroke-linecap:butt;stroke-linejoin:round;}</style>\n",
       " </defs>\n",
       " <g id=\"figure_1\">\n",
       "  <g id=\"patch_1\">\n",
       "   <path d=\"M 0 166.978125 \n",
       "L 229.425 166.978125 \n",
       "L 229.425 0 \n",
       "L 0 0 \n",
       "z\n",
       "\" style=\"fill:none;\"/>\n",
       "  </g>\n",
       "  <g id=\"axes_1\">\n",
       "   <g id=\"patch_2\">\n",
       "    <path d=\"M 26.925 143.1 \n",
       "L 222.225 143.1 \n",
       "L 222.225 7.2 \n",
       "L 26.925 7.2 \n",
       "z\n",
       "\" style=\"fill:#ffffff;\"/>\n",
       "   </g>\n",
       "   <g id=\"PathCollection_1\">\n",
       "    <defs>\n",
       "     <path d=\"M 0 3 \n",
       "C 0.795609 3 1.55874 2.683901 2.12132 2.12132 \n",
       "C 2.683901 1.55874 3 0.795609 3 0 \n",
       "C 3 -0.795609 2.683901 -1.55874 2.12132 -2.12132 \n",
       "C 1.55874 -2.683901 0.795609 -3 0 -3 \n",
       "C -0.795609 -3 -1.55874 -2.683901 -2.12132 -2.12132 \n",
       "C -2.683901 -1.55874 -3 -0.795609 -3 0 \n",
       "C -3 0.795609 -2.683901 1.55874 -2.12132 2.12132 \n",
       "C -1.55874 2.683901 -0.795609 3 0 3 \n",
       "z\n",
       "\" id=\"ma83c0831cf\" style=\"stroke:#1f77b4;\"/>\n",
       "    </defs>\n",
       "    <g clip-path=\"url(#p48d4bcc799)\">\n",
       "     <use style=\"fill:#1f77b4;stroke:#1f77b4;\" x=\"113.29158\" xlink:href=\"#ma83c0831cf\" y=\"107.571595\"/>\n",
       "     <use style=\"fill:#1f77b4;stroke:#1f77b4;\" x=\"35.802273\" xlink:href=\"#ma83c0831cf\" y=\"136.922727\"/>\n",
       "     <use style=\"fill:#1f77b4;stroke:#1f77b4;\" x=\"50.285105\" xlink:href=\"#ma83c0831cf\" y=\"103.393351\"/>\n",
       "     <use style=\"fill:#1f77b4;stroke:#1f77b4;\" x=\"87.026537\" xlink:href=\"#ma83c0831cf\" y=\"119.739126\"/>\n",
       "     <use style=\"fill:#1f77b4;stroke:#1f77b4;\" x=\"178.193685\" xlink:href=\"#ma83c0831cf\" y=\"14.955936\"/>\n",
       "     <use style=\"fill:#1f77b4;stroke:#1f77b4;\" x=\"44.143493\" xlink:href=\"#ma83c0831cf\" y=\"112.269375\"/>\n",
       "     <use style=\"fill:#1f77b4;stroke:#1f77b4;\" x=\"121.967695\" xlink:href=\"#ma83c0831cf\" y=\"81.801539\"/>\n",
       "     <use style=\"fill:#1f77b4;stroke:#1f77b4;\" x=\"157.227646\" xlink:href=\"#ma83c0831cf\" y=\"100.206388\"/>\n",
       "     <use style=\"fill:#1f77b4;stroke:#1f77b4;\" x=\"152.814527\" xlink:href=\"#ma83c0831cf\" y=\"55.813779\"/>\n",
       "     <use style=\"fill:#1f77b4;stroke:#1f77b4;\" x=\"95.940914\" xlink:href=\"#ma83c0831cf\" y=\"67.005054\"/>\n",
       "     <use style=\"fill:#1f77b4;stroke:#1f77b4;\" x=\"42.269638\" xlink:href=\"#ma83c0831cf\" y=\"105.935005\"/>\n",
       "     <use style=\"fill:#1f77b4;stroke:#1f77b4;\" x=\"74.582733\" xlink:href=\"#ma83c0831cf\" y=\"114.633409\"/>\n",
       "     <use style=\"fill:#1f77b4;stroke:#1f77b4;\" x=\"213.347727\" xlink:href=\"#ma83c0831cf\" y=\"53.139252\"/>\n",
       "     <use style=\"fill:#1f77b4;stroke:#1f77b4;\" x=\"134.985322\" xlink:href=\"#ma83c0831cf\" y=\"74.946769\"/>\n",
       "     <use style=\"fill:#1f77b4;stroke:#1f77b4;\" x=\"134.991874\" xlink:href=\"#ma83c0831cf\" y=\"48.43343\"/>\n",
       "     <use style=\"fill:#1f77b4;stroke:#1f77b4;\" x=\"83.321278\" xlink:href=\"#ma83c0831cf\" y=\"119.743061\"/>\n",
       "     <use style=\"fill:#1f77b4;stroke:#1f77b4;\" x=\"203.002944\" xlink:href=\"#ma83c0831cf\" y=\"13.377273\"/>\n",
       "     <use style=\"fill:#1f77b4;stroke:#1f77b4;\" x=\"152.910876\" xlink:href=\"#ma83c0831cf\" y=\"66.642579\"/>\n",
       "     <use style=\"fill:#1f77b4;stroke:#1f77b4;\" x=\"132.711156\" xlink:href=\"#ma83c0831cf\" y=\"67.208511\"/>\n",
       "     <use style=\"fill:#1f77b4;stroke:#1f77b4;\" x=\"172.683743\" xlink:href=\"#ma83c0831cf\" y=\"52.768768\"/>\n",
       "    </g>\n",
       "   </g>\n",
       "   <g id=\"matplotlib.axis_1\">\n",
       "    <g id=\"xtick_1\">\n",
       "     <g id=\"line2d_1\">\n",
       "      <defs>\n",
       "       <path d=\"M 0 0 \n",
       "L 0 3.5 \n",
       "\" id=\"m41d6ed20df\" style=\"stroke:#000000;stroke-width:0.8;\"/>\n",
       "      </defs>\n",
       "      <g>\n",
       "       <use style=\"stroke:#000000;stroke-width:0.8;\" x=\"70.27474\" xlink:href=\"#m41d6ed20df\" y=\"143.1\"/>\n",
       "      </g>\n",
       "     </g>\n",
       "     <g id=\"text_1\">\n",
       "      <!-- −1 -->\n",
       "      <g transform=\"translate(62.903647 157.698438)scale(0.1 -0.1)\">\n",
       "       <defs>\n",
       "        <path d=\"M 10.59375 35.5 \n",
       "L 73.1875 35.5 \n",
       "L 73.1875 27.203125 \n",
       "L 10.59375 27.203125 \n",
       "z\n",
       "\" id=\"DejaVuSans-8722\"/>\n",
       "        <path d=\"M 12.40625 8.296875 \n",
       "L 28.515625 8.296875 \n",
       "L 28.515625 63.921875 \n",
       "L 10.984375 60.40625 \n",
       "L 10.984375 69.390625 \n",
       "L 28.421875 72.90625 \n",
       "L 38.28125 72.90625 \n",
       "L 38.28125 8.296875 \n",
       "L 54.390625 8.296875 \n",
       "L 54.390625 0 \n",
       "L 12.40625 0 \n",
       "z\n",
       "\" id=\"DejaVuSans-49\"/>\n",
       "       </defs>\n",
       "       <use xlink:href=\"#DejaVuSans-8722\"/>\n",
       "       <use x=\"83.789062\" xlink:href=\"#DejaVuSans-49\"/>\n",
       "      </g>\n",
       "     </g>\n",
       "    </g>\n",
       "    <g id=\"xtick_2\">\n",
       "     <g id=\"line2d_2\">\n",
       "      <g>\n",
       "       <use style=\"stroke:#000000;stroke-width:0.8;\" x=\"125.65582\" xlink:href=\"#m41d6ed20df\" y=\"143.1\"/>\n",
       "      </g>\n",
       "     </g>\n",
       "     <g id=\"text_2\">\n",
       "      <!-- 0 -->\n",
       "      <g transform=\"translate(122.47457 157.698438)scale(0.1 -0.1)\">\n",
       "       <defs>\n",
       "        <path d=\"M 31.78125 66.40625 \n",
       "Q 24.171875 66.40625 20.328125 58.90625 \n",
       "Q 16.5 51.421875 16.5 36.375 \n",
       "Q 16.5 21.390625 20.328125 13.890625 \n",
       "Q 24.171875 6.390625 31.78125 6.390625 \n",
       "Q 39.453125 6.390625 43.28125 13.890625 \n",
       "Q 47.125 21.390625 47.125 36.375 \n",
       "Q 47.125 51.421875 43.28125 58.90625 \n",
       "Q 39.453125 66.40625 31.78125 66.40625 \n",
       "z\n",
       "M 31.78125 74.21875 \n",
       "Q 44.046875 74.21875 50.515625 64.515625 \n",
       "Q 56.984375 54.828125 56.984375 36.375 \n",
       "Q 56.984375 17.96875 50.515625 8.265625 \n",
       "Q 44.046875 -1.421875 31.78125 -1.421875 \n",
       "Q 19.53125 -1.421875 13.0625 8.265625 \n",
       "Q 6.59375 17.96875 6.59375 36.375 \n",
       "Q 6.59375 54.828125 13.0625 64.515625 \n",
       "Q 19.53125 74.21875 31.78125 74.21875 \n",
       "z\n",
       "\" id=\"DejaVuSans-48\"/>\n",
       "       </defs>\n",
       "       <use xlink:href=\"#DejaVuSans-48\"/>\n",
       "      </g>\n",
       "     </g>\n",
       "    </g>\n",
       "    <g id=\"xtick_3\">\n",
       "     <g id=\"line2d_3\">\n",
       "      <g>\n",
       "       <use style=\"stroke:#000000;stroke-width:0.8;\" x=\"181.0369\" xlink:href=\"#m41d6ed20df\" y=\"143.1\"/>\n",
       "      </g>\n",
       "     </g>\n",
       "     <g id=\"text_3\">\n",
       "      <!-- 1 -->\n",
       "      <g transform=\"translate(177.85565 157.698438)scale(0.1 -0.1)\">\n",
       "       <use xlink:href=\"#DejaVuSans-49\"/>\n",
       "      </g>\n",
       "     </g>\n",
       "    </g>\n",
       "   </g>\n",
       "   <g id=\"matplotlib.axis_2\">\n",
       "    <g id=\"ytick_1\">\n",
       "     <g id=\"line2d_4\">\n",
       "      <defs>\n",
       "       <path d=\"M 0 0 \n",
       "L -3.5 0 \n",
       "\" id=\"mf139fa1168\" style=\"stroke:#000000;stroke-width:0.8;\"/>\n",
       "      </defs>\n",
       "      <g>\n",
       "       <use style=\"stroke:#000000;stroke-width:0.8;\" x=\"26.925\" xlink:href=\"#mf139fa1168\" y=\"112.906116\"/>\n",
       "      </g>\n",
       "     </g>\n",
       "     <g id=\"text_4\">\n",
       "      <!-- 0 -->\n",
       "      <g transform=\"translate(13.5625 116.705335)scale(0.1 -0.1)\">\n",
       "       <use xlink:href=\"#DejaVuSans-48\"/>\n",
       "      </g>\n",
       "     </g>\n",
       "    </g>\n",
       "    <g id=\"ytick_2\">\n",
       "     <g id=\"line2d_5\">\n",
       "      <g>\n",
       "       <use style=\"stroke:#000000;stroke-width:0.8;\" x=\"26.925\" xlink:href=\"#mf139fa1168\" y=\"70.93905\"/>\n",
       "      </g>\n",
       "     </g>\n",
       "     <g id=\"text_5\">\n",
       "      <!-- 5 -->\n",
       "      <g transform=\"translate(13.5625 74.738269)scale(0.1 -0.1)\">\n",
       "       <defs>\n",
       "        <path d=\"M 10.796875 72.90625 \n",
       "L 49.515625 72.90625 \n",
       "L 49.515625 64.59375 \n",
       "L 19.828125 64.59375 \n",
       "L 19.828125 46.734375 \n",
       "Q 21.96875 47.46875 24.109375 47.828125 \n",
       "Q 26.265625 48.1875 28.421875 48.1875 \n",
       "Q 40.625 48.1875 47.75 41.5 \n",
       "Q 54.890625 34.8125 54.890625 23.390625 \n",
       "Q 54.890625 11.625 47.5625 5.09375 \n",
       "Q 40.234375 -1.421875 26.90625 -1.421875 \n",
       "Q 22.3125 -1.421875 17.546875 -0.640625 \n",
       "Q 12.796875 0.140625 7.71875 1.703125 \n",
       "L 7.71875 11.625 \n",
       "Q 12.109375 9.234375 16.796875 8.0625 \n",
       "Q 21.484375 6.890625 26.703125 6.890625 \n",
       "Q 35.15625 6.890625 40.078125 11.328125 \n",
       "Q 45.015625 15.765625 45.015625 23.390625 \n",
       "Q 45.015625 31 40.078125 35.4375 \n",
       "Q 35.15625 39.890625 26.703125 39.890625 \n",
       "Q 22.75 39.890625 18.8125 39.015625 \n",
       "Q 14.890625 38.140625 10.796875 36.28125 \n",
       "z\n",
       "\" id=\"DejaVuSans-53\"/>\n",
       "       </defs>\n",
       "       <use xlink:href=\"#DejaVuSans-53\"/>\n",
       "      </g>\n",
       "     </g>\n",
       "    </g>\n",
       "    <g id=\"ytick_3\">\n",
       "     <g id=\"line2d_6\">\n",
       "      <g>\n",
       "       <use style=\"stroke:#000000;stroke-width:0.8;\" x=\"26.925\" xlink:href=\"#mf139fa1168\" y=\"28.971985\"/>\n",
       "      </g>\n",
       "     </g>\n",
       "     <g id=\"text_6\">\n",
       "      <!-- 10 -->\n",
       "      <g transform=\"translate(7.2 32.771203)scale(0.1 -0.1)\">\n",
       "       <use xlink:href=\"#DejaVuSans-49\"/>\n",
       "       <use x=\"63.623047\" xlink:href=\"#DejaVuSans-48\"/>\n",
       "      </g>\n",
       "     </g>\n",
       "    </g>\n",
       "   </g>\n",
       "   <g id=\"patch_3\">\n",
       "    <path d=\"M 26.925 143.1 \n",
       "L 26.925 7.2 \n",
       "\" style=\"fill:none;stroke:#000000;stroke-linecap:square;stroke-linejoin:miter;stroke-width:0.8;\"/>\n",
       "   </g>\n",
       "   <g id=\"patch_4\">\n",
       "    <path d=\"M 222.225 143.1 \n",
       "L 222.225 7.2 \n",
       "\" style=\"fill:none;stroke:#000000;stroke-linecap:square;stroke-linejoin:miter;stroke-width:0.8;\"/>\n",
       "   </g>\n",
       "   <g id=\"patch_5\">\n",
       "    <path d=\"M 26.925 143.1 \n",
       "L 222.225 143.1 \n",
       "\" style=\"fill:none;stroke:#000000;stroke-linecap:square;stroke-linejoin:miter;stroke-width:0.8;\"/>\n",
       "   </g>\n",
       "   <g id=\"patch_6\">\n",
       "    <path d=\"M 26.925 7.2 \n",
       "L 222.225 7.2 \n",
       "\" style=\"fill:none;stroke:#000000;stroke-linecap:square;stroke-linejoin:miter;stroke-width:0.8;\"/>\n",
       "   </g>\n",
       "  </g>\n",
       " </g>\n",
       " <defs>\n",
       "  <clipPath id=\"p48d4bcc799\">\n",
       "   <rect height=\"135.9\" width=\"195.3\" x=\"26.925\" y=\"7.2\"/>\n",
       "  </clipPath>\n",
       " </defs>\n",
       "</svg>\n"
      ],
      "text/plain": [
       "<Figure size 252x180 with 1 Axes>"
      ]
     },
     "metadata": {
      "needs_background": "light"
     },
     "output_type": "display_data"
    }
   ],
   "source": [
    "d2l.set_figsize()\n",
    "d2l.plt.scatter(X[:,(1)].detach().numpy(),y.detach().numpy())"
   ]
  },
  {
   "cell_type": "markdown",
   "id": "88304d06",
   "metadata": {},
   "source": [
    "Step2: create iterator for data"
   ]
  },
  {
   "cell_type": "code",
   "execution_count": 53,
   "id": "fd1fe748",
   "metadata": {},
   "outputs": [],
   "source": [
    "def iterbatches(batch_size, X, y):\n",
    "    indices = list(range(len(y)))\n",
    "    random.shuffle(indices)\n",
    "    for i in range(0,len(y),batch_size):\n",
    "        batch_indices = torch.tensor(indices[i:min(i+batch_size, len(y))])\n",
    "        yield X[batch_indices], y[batch_indices]"
   ]
  },
  {
   "cell_type": "code",
   "execution_count": 54,
   "id": "6a078c48",
   "metadata": {},
   "outputs": [
    {
     "name": "stdout",
     "output_type": "stream",
     "text": [
      "tensor([[-0.2045, -0.6975,  1.6867],\n",
      "        [ 1.2631, -0.0666,  1.1691],\n",
      "        [ 0.1738,  1.3966, -1.1035],\n",
      "        [-0.1809, -1.4718,  0.0163],\n",
      "        [ 0.2312,  0.1685,  0.6289],\n",
      "        [ 1.1053,  0.8492,  0.8181],\n",
      "        [-1.3085, -0.2233,  1.1731],\n",
      "        [ 1.3067, -0.7644,  2.3335],\n",
      "        [-0.6283,  0.4921,  0.2113],\n",
      "        [-1.2144,  1.5834,  0.8706]]) tensor([[-0.8141],\n",
      "        [ 3.7058],\n",
      "        [11.8580],\n",
      "        [ 0.0759],\n",
      "        [ 4.5225],\n",
      "        [ 7.1648],\n",
      "        [ 0.6356],\n",
      "        [-0.8146],\n",
      "        [ 5.5119],\n",
      "        [ 7.1207]])\n"
     ]
    }
   ],
   "source": [
    "for X_b, y_b in iterbatches(10,X,y):\n",
    "    print(X_b, y_b)\n",
    "    break"
   ]
  },
  {
   "cell_type": "markdown",
   "id": "bc14733a",
   "metadata": {},
   "source": [
    "Step3: define model, intial paramters and loss function"
   ]
  },
  {
   "cell_type": "code",
   "execution_count": 85,
   "id": "0928981d",
   "metadata": {},
   "outputs": [],
   "source": [
    "W = torch.normal(0,1,(3,1), requires_grad=True)\n",
    "b = torch.zeros(1, requires_grad=True)"
   ]
  },
  {
   "cell_type": "code",
   "execution_count": 57,
   "id": "0f590ca1",
   "metadata": {},
   "outputs": [],
   "source": [
    "def linreg(X,w,b):\n",
    "    return torch.matmul(X, w)+b"
   ]
  },
  {
   "cell_type": "code",
   "execution_count": 58,
   "id": "5550efd7",
   "metadata": {},
   "outputs": [],
   "source": [
    "def squared_loss(y_hat, y):\n",
    "    return ((y_hat-y.reshape(y.shape))**2)/2"
   ]
  },
  {
   "cell_type": "code",
   "execution_count": 82,
   "id": "51e834cb",
   "metadata": {},
   "outputs": [],
   "source": [
    "def sgd(params, lr, batch_size):\n",
    "    with torch.no_grad():\n",
    "        for param in params:\n",
    "            param -= lr*param.grad/batch_size\n",
    "            param.grad.zero_()"
   ]
  },
  {
   "cell_type": "markdown",
   "id": "cef5bb42",
   "metadata": {},
   "source": [
    "Step4: train the network"
   ]
  },
  {
   "cell_type": "code",
   "execution_count": 87,
   "id": "7047be4c",
   "metadata": {},
   "outputs": [
    {
     "name": "stdout",
     "output_type": "stream",
     "text": [
      "epoch 0 loss 4.921418\n",
      "epoch 1 loss 4.077487\n",
      "epoch 2 loss 3.379934\n",
      "epoch 3 loss 2.804749\n",
      "epoch 4 loss 2.329123\n"
     ]
    }
   ],
   "source": [
    "lr = 0.03\n",
    "epochs = 5\n",
    "\n",
    "for epoch in range(epochs):\n",
    "    for X_b,y_b in iterbatches(5,X,y):\n",
    "        loss = squared_loss(linreg(X_b,W,b),y_b)\n",
    "        loss.sum().backward()\n",
    "        sgd([W,b], lr, 5)\n",
    "    with torch.no_grad():\n",
    "        print(f'epoch {epoch} loss {float(squared_loss(linreg(X,W,b),y).mean()):f}')"
   ]
  },
  {
   "cell_type": "code",
   "execution_count": null,
   "id": "1557ce43",
   "metadata": {},
   "outputs": [],
   "source": []
  },
  {
   "cell_type": "code",
   "execution_count": null,
   "id": "f939fc09",
   "metadata": {},
   "outputs": [],
   "source": []
  }
 ],
 "metadata": {
  "kernelspec": {
   "display_name": "Python 3",
   "language": "python",
   "name": "python3"
  },
  "language_info": {
   "codemirror_mode": {
    "name": "ipython",
    "version": 3
   },
   "file_extension": ".py",
   "mimetype": "text/x-python",
   "name": "python",
   "nbconvert_exporter": "python",
   "pygments_lexer": "ipython3",
   "version": "3.8.8"
  }
 },
 "nbformat": 4,
 "nbformat_minor": 5
}
