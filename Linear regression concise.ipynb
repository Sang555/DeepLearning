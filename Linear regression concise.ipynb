{
 "cells": [
  {
   "cell_type": "code",
   "execution_count": 1,
   "id": "62d4d34b",
   "metadata": {},
   "outputs": [
    {
     "name": "stdout",
     "output_type": "stream",
     "text": [
      "Requirement already satisfied: torch in /Users/sangeethavs/opt/anaconda3/lib/python3.8/site-packages (1.10.1)\n",
      "Requirement already satisfied: torchvision in /Users/sangeethavs/opt/anaconda3/lib/python3.8/site-packages (0.11.2)\n",
      "Requirement already satisfied: typing-extensions in /Users/sangeethavs/opt/anaconda3/lib/python3.8/site-packages (from torch) (3.7.4.3)\n",
      "Requirement already satisfied: pillow!=8.3.0,>=5.3.0 in /Users/sangeethavs/opt/anaconda3/lib/python3.8/site-packages (from torchvision) (8.2.0)\n",
      "Requirement already satisfied: numpy in /Users/sangeethavs/opt/anaconda3/lib/python3.8/site-packages (from torchvision) (1.18.5)\n",
      "Requirement already satisfied: d2l in /Users/sangeethavs/opt/anaconda3/lib/python3.8/site-packages (0.17.1)\n",
      "Requirement already satisfied: matplotlib==3.3.3 in /Users/sangeethavs/opt/anaconda3/lib/python3.8/site-packages (from d2l) (3.3.3)\n",
      "Requirement already satisfied: pandas==1.2.2 in /Users/sangeethavs/opt/anaconda3/lib/python3.8/site-packages (from d2l) (1.2.2)\n",
      "Requirement already satisfied: requests==2.25.1 in /Users/sangeethavs/opt/anaconda3/lib/python3.8/site-packages (from d2l) (2.25.1)\n",
      "Requirement already satisfied: numpy==1.18.5 in /Users/sangeethavs/opt/anaconda3/lib/python3.8/site-packages (from d2l) (1.18.5)\n",
      "Requirement already satisfied: jupyter==1.0.0 in /Users/sangeethavs/opt/anaconda3/lib/python3.8/site-packages (from d2l) (1.0.0)\n",
      "Requirement already satisfied: ipykernel in /Users/sangeethavs/opt/anaconda3/lib/python3.8/site-packages (from jupyter==1.0.0->d2l) (5.3.4)\n",
      "Requirement already satisfied: qtconsole in /Users/sangeethavs/opt/anaconda3/lib/python3.8/site-packages (from jupyter==1.0.0->d2l) (5.0.3)\n",
      "Requirement already satisfied: nbconvert in /Users/sangeethavs/opt/anaconda3/lib/python3.8/site-packages (from jupyter==1.0.0->d2l) (6.0.7)\n",
      "Requirement already satisfied: ipywidgets in /Users/sangeethavs/opt/anaconda3/lib/python3.8/site-packages (from jupyter==1.0.0->d2l) (7.6.3)\n",
      "Requirement already satisfied: notebook in /Users/sangeethavs/opt/anaconda3/lib/python3.8/site-packages (from jupyter==1.0.0->d2l) (6.3.0)\n",
      "Requirement already satisfied: jupyter-console in /Users/sangeethavs/opt/anaconda3/lib/python3.8/site-packages (from jupyter==1.0.0->d2l) (6.4.0)\n",
      "Requirement already satisfied: cycler>=0.10 in /Users/sangeethavs/opt/anaconda3/lib/python3.8/site-packages (from matplotlib==3.3.3->d2l) (0.10.0)\n",
      "Requirement already satisfied: pyparsing!=2.0.4,!=2.1.2,!=2.1.6,>=2.0.3 in /Users/sangeethavs/opt/anaconda3/lib/python3.8/site-packages (from matplotlib==3.3.3->d2l) (2.4.7)\n",
      "Requirement already satisfied: pillow>=6.2.0 in /Users/sangeethavs/opt/anaconda3/lib/python3.8/site-packages (from matplotlib==3.3.3->d2l) (8.2.0)\n",
      "Requirement already satisfied: python-dateutil>=2.1 in /Users/sangeethavs/opt/anaconda3/lib/python3.8/site-packages (from matplotlib==3.3.3->d2l) (2.8.1)\n",
      "Requirement already satisfied: kiwisolver>=1.0.1 in /Users/sangeethavs/opt/anaconda3/lib/python3.8/site-packages (from matplotlib==3.3.3->d2l) (1.3.1)\n",
      "Requirement already satisfied: pytz>=2017.3 in /Users/sangeethavs/opt/anaconda3/lib/python3.8/site-packages (from pandas==1.2.2->d2l) (2021.1)\n",
      "Requirement already satisfied: certifi>=2017.4.17 in /Users/sangeethavs/opt/anaconda3/lib/python3.8/site-packages (from requests==2.25.1->d2l) (2020.12.5)\n",
      "Requirement already satisfied: chardet<5,>=3.0.2 in /Users/sangeethavs/opt/anaconda3/lib/python3.8/site-packages (from requests==2.25.1->d2l) (4.0.0)\n",
      "Requirement already satisfied: urllib3<1.27,>=1.21.1 in /Users/sangeethavs/opt/anaconda3/lib/python3.8/site-packages (from requests==2.25.1->d2l) (1.26.4)\n",
      "Requirement already satisfied: idna<3,>=2.5 in /Users/sangeethavs/opt/anaconda3/lib/python3.8/site-packages (from requests==2.25.1->d2l) (2.10)\n",
      "Requirement already satisfied: six in /Users/sangeethavs/opt/anaconda3/lib/python3.8/site-packages (from cycler>=0.10->matplotlib==3.3.3->d2l) (1.15.0)\n",
      "Requirement already satisfied: jupyter-client in /Users/sangeethavs/opt/anaconda3/lib/python3.8/site-packages (from ipykernel->jupyter==1.0.0->d2l) (6.1.12)\n",
      "Requirement already satisfied: ipython>=5.0.0 in /Users/sangeethavs/opt/anaconda3/lib/python3.8/site-packages (from ipykernel->jupyter==1.0.0->d2l) (7.22.0)\n",
      "Requirement already satisfied: traitlets>=4.1.0 in /Users/sangeethavs/opt/anaconda3/lib/python3.8/site-packages (from ipykernel->jupyter==1.0.0->d2l) (5.0.5)\n",
      "Requirement already satisfied: tornado>=4.2 in /Users/sangeethavs/opt/anaconda3/lib/python3.8/site-packages (from ipykernel->jupyter==1.0.0->d2l) (6.1)\n",
      "Requirement already satisfied: appnope in /Users/sangeethavs/opt/anaconda3/lib/python3.8/site-packages (from ipykernel->jupyter==1.0.0->d2l) (0.1.2)\n",
      "Requirement already satisfied: pygments in /Users/sangeethavs/opt/anaconda3/lib/python3.8/site-packages (from ipython>=5.0.0->ipykernel->jupyter==1.0.0->d2l) (2.8.1)\n",
      "Requirement already satisfied: decorator in /Users/sangeethavs/opt/anaconda3/lib/python3.8/site-packages (from ipython>=5.0.0->ipykernel->jupyter==1.0.0->d2l) (5.0.6)\n",
      "Requirement already satisfied: setuptools>=18.5 in /Users/sangeethavs/opt/anaconda3/lib/python3.8/site-packages (from ipython>=5.0.0->ipykernel->jupyter==1.0.0->d2l) (52.0.0.post20210125)\n",
      "Requirement already satisfied: pexpect>4.3 in /Users/sangeethavs/opt/anaconda3/lib/python3.8/site-packages (from ipython>=5.0.0->ipykernel->jupyter==1.0.0->d2l) (4.8.0)\n",
      "Requirement already satisfied: prompt-toolkit!=3.0.0,!=3.0.1,<3.1.0,>=2.0.0 in /Users/sangeethavs/opt/anaconda3/lib/python3.8/site-packages (from ipython>=5.0.0->ipykernel->jupyter==1.0.0->d2l) (3.0.17)\n",
      "Requirement already satisfied: jedi>=0.16 in /Users/sangeethavs/opt/anaconda3/lib/python3.8/site-packages (from ipython>=5.0.0->ipykernel->jupyter==1.0.0->d2l) (0.17.2)\n",
      "Requirement already satisfied: pickleshare in /Users/sangeethavs/opt/anaconda3/lib/python3.8/site-packages (from ipython>=5.0.0->ipykernel->jupyter==1.0.0->d2l) (0.7.5)\n",
      "Requirement already satisfied: backcall in /Users/sangeethavs/opt/anaconda3/lib/python3.8/site-packages (from ipython>=5.0.0->ipykernel->jupyter==1.0.0->d2l) (0.2.0)\n",
      "Requirement already satisfied: parso<0.8.0,>=0.7.0 in /Users/sangeethavs/opt/anaconda3/lib/python3.8/site-packages (from jedi>=0.16->ipython>=5.0.0->ipykernel->jupyter==1.0.0->d2l) (0.7.0)\n",
      "Requirement already satisfied: ptyprocess>=0.5 in /Users/sangeethavs/opt/anaconda3/lib/python3.8/site-packages (from pexpect>4.3->ipython>=5.0.0->ipykernel->jupyter==1.0.0->d2l) (0.7.0)\n",
      "Requirement already satisfied: wcwidth in /Users/sangeethavs/opt/anaconda3/lib/python3.8/site-packages (from prompt-toolkit!=3.0.0,!=3.0.1,<3.1.0,>=2.0.0->ipython>=5.0.0->ipykernel->jupyter==1.0.0->d2l) (0.2.5)\n",
      "Requirement already satisfied: ipython-genutils in /Users/sangeethavs/opt/anaconda3/lib/python3.8/site-packages (from traitlets>=4.1.0->ipykernel->jupyter==1.0.0->d2l) (0.2.0)\n",
      "Requirement already satisfied: nbformat>=4.2.0 in /Users/sangeethavs/opt/anaconda3/lib/python3.8/site-packages (from ipywidgets->jupyter==1.0.0->d2l) (5.1.3)\n",
      "Requirement already satisfied: jupyterlab-widgets>=1.0.0 in /Users/sangeethavs/opt/anaconda3/lib/python3.8/site-packages (from ipywidgets->jupyter==1.0.0->d2l) (1.0.0)\n",
      "Requirement already satisfied: widgetsnbextension~=3.5.0 in /Users/sangeethavs/opt/anaconda3/lib/python3.8/site-packages (from ipywidgets->jupyter==1.0.0->d2l) (3.5.1)\n",
      "Requirement already satisfied: jsonschema!=2.5.0,>=2.4 in /Users/sangeethavs/opt/anaconda3/lib/python3.8/site-packages (from nbformat>=4.2.0->ipywidgets->jupyter==1.0.0->d2l) (3.2.0)\n",
      "Requirement already satisfied: jupyter-core in /Users/sangeethavs/opt/anaconda3/lib/python3.8/site-packages (from nbformat>=4.2.0->ipywidgets->jupyter==1.0.0->d2l) (4.7.1)\n",
      "Requirement already satisfied: attrs>=17.4.0 in /Users/sangeethavs/opt/anaconda3/lib/python3.8/site-packages (from jsonschema!=2.5.0,>=2.4->nbformat>=4.2.0->ipywidgets->jupyter==1.0.0->d2l) (20.3.0)\n",
      "Requirement already satisfied: pyrsistent>=0.14.0 in /Users/sangeethavs/opt/anaconda3/lib/python3.8/site-packages (from jsonschema!=2.5.0,>=2.4->nbformat>=4.2.0->ipywidgets->jupyter==1.0.0->d2l) (0.17.3)\n",
      "Requirement already satisfied: argon2-cffi in /Users/sangeethavs/opt/anaconda3/lib/python3.8/site-packages (from notebook->jupyter==1.0.0->d2l) (20.1.0)\n",
      "Requirement already satisfied: terminado>=0.8.3 in /Users/sangeethavs/opt/anaconda3/lib/python3.8/site-packages (from notebook->jupyter==1.0.0->d2l) (0.9.4)\n",
      "Requirement already satisfied: prometheus-client in /Users/sangeethavs/opt/anaconda3/lib/python3.8/site-packages (from notebook->jupyter==1.0.0->d2l) (0.10.1)\n",
      "Requirement already satisfied: jinja2 in /Users/sangeethavs/opt/anaconda3/lib/python3.8/site-packages (from notebook->jupyter==1.0.0->d2l) (2.11.3)\n",
      "Requirement already satisfied: Send2Trash>=1.5.0 in /Users/sangeethavs/opt/anaconda3/lib/python3.8/site-packages (from notebook->jupyter==1.0.0->d2l) (1.5.0)\n",
      "Requirement already satisfied: pyzmq>=17 in /Users/sangeethavs/opt/anaconda3/lib/python3.8/site-packages (from notebook->jupyter==1.0.0->d2l) (20.0.0)\n",
      "Requirement already satisfied: cffi>=1.0.0 in /Users/sangeethavs/opt/anaconda3/lib/python3.8/site-packages (from argon2-cffi->notebook->jupyter==1.0.0->d2l) (1.14.5)\n",
      "Requirement already satisfied: pycparser in /Users/sangeethavs/opt/anaconda3/lib/python3.8/site-packages (from cffi>=1.0.0->argon2-cffi->notebook->jupyter==1.0.0->d2l) (2.20)\n",
      "Requirement already satisfied: MarkupSafe>=0.23 in /Users/sangeethavs/opt/anaconda3/lib/python3.8/site-packages (from jinja2->notebook->jupyter==1.0.0->d2l) (1.1.1)\n"
     ]
    },
    {
     "name": "stdout",
     "output_type": "stream",
     "text": [
      "Requirement already satisfied: mistune<2,>=0.8.1 in /Users/sangeethavs/opt/anaconda3/lib/python3.8/site-packages (from nbconvert->jupyter==1.0.0->d2l) (0.8.4)\n",
      "Requirement already satisfied: pandocfilters>=1.4.1 in /Users/sangeethavs/opt/anaconda3/lib/python3.8/site-packages (from nbconvert->jupyter==1.0.0->d2l) (1.4.3)\n",
      "Requirement already satisfied: entrypoints>=0.2.2 in /Users/sangeethavs/opt/anaconda3/lib/python3.8/site-packages (from nbconvert->jupyter==1.0.0->d2l) (0.3)\n",
      "Requirement already satisfied: nbclient<0.6.0,>=0.5.0 in /Users/sangeethavs/opt/anaconda3/lib/python3.8/site-packages (from nbconvert->jupyter==1.0.0->d2l) (0.5.3)\n",
      "Requirement already satisfied: bleach in /Users/sangeethavs/opt/anaconda3/lib/python3.8/site-packages (from nbconvert->jupyter==1.0.0->d2l) (3.3.0)\n",
      "Requirement already satisfied: defusedxml in /Users/sangeethavs/opt/anaconda3/lib/python3.8/site-packages (from nbconvert->jupyter==1.0.0->d2l) (0.7.1)\n",
      "Requirement already satisfied: jupyterlab-pygments in /Users/sangeethavs/opt/anaconda3/lib/python3.8/site-packages (from nbconvert->jupyter==1.0.0->d2l) (0.1.2)\n",
      "Requirement already satisfied: testpath in /Users/sangeethavs/opt/anaconda3/lib/python3.8/site-packages (from nbconvert->jupyter==1.0.0->d2l) (0.4.4)\n",
      "Requirement already satisfied: async-generator in /Users/sangeethavs/opt/anaconda3/lib/python3.8/site-packages (from nbclient<0.6.0,>=0.5.0->nbconvert->jupyter==1.0.0->d2l) (1.10)\n",
      "Requirement already satisfied: nest-asyncio in /Users/sangeethavs/opt/anaconda3/lib/python3.8/site-packages (from nbclient<0.6.0,>=0.5.0->nbconvert->jupyter==1.0.0->d2l) (1.5.1)\n",
      "Requirement already satisfied: webencodings in /Users/sangeethavs/opt/anaconda3/lib/python3.8/site-packages (from bleach->nbconvert->jupyter==1.0.0->d2l) (0.5.1)\n",
      "Requirement already satisfied: packaging in /Users/sangeethavs/opt/anaconda3/lib/python3.8/site-packages (from bleach->nbconvert->jupyter==1.0.0->d2l) (20.9)\n",
      "Requirement already satisfied: qtpy in /Users/sangeethavs/opt/anaconda3/lib/python3.8/site-packages (from qtconsole->jupyter==1.0.0->d2l) (1.9.0)\n"
     ]
    }
   ],
   "source": [
    "!pip3 install torch torchvision\n",
    "!pip3 install -U d2l"
   ]
  },
  {
   "cell_type": "code",
   "execution_count": 7,
   "id": "5d02e44e",
   "metadata": {},
   "outputs": [],
   "source": [
    "import numpy as np\n",
    "import torch\n",
    "import random\n",
    "from torch.utils import data\n",
    "from d2l import torch as d2l"
   ]
  },
  {
   "cell_type": "code",
   "execution_count": 3,
   "id": "9695e7cc",
   "metadata": {},
   "outputs": [],
   "source": [
    "def synthetic_data(W,b ,num_examples):\n",
    "    X = torch.normal(0,1,(num_examples,len(W)))\n",
    "    y = torch.matmul(X,W)+b\n",
    "    y += torch.normal(0,0.01,y.shape)\n",
    "    return X, y.reshape((-1,1))"
   ]
  },
  {
   "cell_type": "code",
   "execution_count": 4,
   "id": "66a3f4c0",
   "metadata": {},
   "outputs": [],
   "source": [
    "W = torch.tensor([2,7.1,3], requires_grad=True)\n",
    "b = torch.tensor(2.0, requires_grad=True)\n",
    "\n",
    "features, labels = synthetic_data(W,b,20)"
   ]
  },
  {
   "cell_type": "markdown",
   "id": "e0826f8f",
   "metadata": {},
   "source": [
    "Using Dataloader iterator"
   ]
  },
  {
   "cell_type": "code",
   "execution_count": 18,
   "id": "faf10d1a",
   "metadata": {},
   "outputs": [],
   "source": [
    "def load_data(dataArr, batch_size):\n",
    "    d = data.TensorDataset(*dataArr)\n",
    "    return data.DataLoader(d, batch_size, shuffle=True)\n",
    "    \n",
    "    \n",
    "data_iter = load_data((features, labels), 5)\n"
   ]
  },
  {
   "cell_type": "markdown",
   "id": "c43a1f22",
   "metadata": {},
   "source": [
    "Define model"
   ]
  },
  {
   "cell_type": "code",
   "execution_count": 19,
   "id": "7f95e47b",
   "metadata": {},
   "outputs": [],
   "source": [
    "from torch import nn\n",
    "\n",
    "model = nn.Sequential(nn.Linear(3,1))"
   ]
  },
  {
   "cell_type": "code",
   "execution_count": 20,
   "id": "4b97b07b",
   "metadata": {},
   "outputs": [
    {
     "data": {
      "text/plain": [
       "tensor([0.])"
      ]
     },
     "execution_count": 20,
     "metadata": {},
     "output_type": "execute_result"
    }
   ],
   "source": [
    "model[0].weight.data.normal_(0,1)\n",
    "model[0].bias.data.fill_(0)"
   ]
  },
  {
   "cell_type": "code",
   "execution_count": 21,
   "id": "11442348",
   "metadata": {},
   "outputs": [],
   "source": [
    "loss = nn.MSELoss()\n",
    "optim = torch.optim.SGD(model.parameters(), lr=0.3)"
   ]
  },
  {
   "cell_type": "code",
   "execution_count": null,
   "id": "631ff062",
   "metadata": {},
   "outputs": [],
   "source": [
    "epochs = 5\n",
    "for epoch in range(epochs):\n",
    "    for X,y in data_iter:\n",
    "        l = loss(model(X),y)\n",
    "        optim.zero_grad()\n",
    "        l.backward(retain_graph=True)\n",
    "        optim.step()\n",
    "    print(f'epoch {epoch} loss {float(loss(net(features),labels).mean()):f}')"
   ]
  },
  {
   "cell_type": "code",
   "execution_count": null,
   "id": "05cc85ed",
   "metadata": {},
   "outputs": [],
   "source": []
  }
 ],
 "metadata": {
  "kernelspec": {
   "display_name": "Python 3",
   "language": "python",
   "name": "python3"
  },
  "language_info": {
   "codemirror_mode": {
    "name": "ipython",
    "version": 3
   },
   "file_extension": ".py",
   "mimetype": "text/x-python",
   "name": "python",
   "nbconvert_exporter": "python",
   "pygments_lexer": "ipython3",
   "version": "3.8.8"
  }
 },
 "nbformat": 4,
 "nbformat_minor": 5
}
